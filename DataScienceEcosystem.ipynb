{
 "cells": [
  {
   "cell_type": "markdown",
   "id": "4d8d20c5-367a-4b0d-9d71-1f605bb494e6",
   "metadata": {},
   "source": [
    "# Data Science Tools and Ecosystem"
   ]
  },
  {
   "cell_type": "markdown",
   "id": "274f1b02-68a4-41a4-8c54-9cdc9113674a",
   "metadata": {},
   "source": [
    "In this notebook, Data Science Tools and Ecosystem are summarized.\n",
    "\n"
   ]
  },
  {
   "cell_type": "markdown",
   "id": "61bedbb3-5987-490e-9b4c-94dfbb86fd24",
   "metadata": {},
   "source": [
    "**Objectives:**\n",
    "- List popular languages for Data Science\n",
    "- List of commonly used liberies for Data Science\n",
    "- List of commonly used tools for Data Science\n",
    "- simple arithmetic expression to multiply then add integers\n",
    "- convertion of 200 minutes to hours"
   ]
  },
  {
   "cell_type": "markdown",
   "id": "b803c727-ba5b-4971-8f73-490ca5a354f7",
   "metadata": {},
   "source": [
    "Some of the popular languages that Data Scientists use are:\n",
    "1. Java\n",
    "2. Python\n",
    "3. R\n",
    "4. SQL\n"
   ]
  },
  {
   "cell_type": "markdown",
   "id": "77f614ea-727f-4ee7-9321-7e111d50e7db",
   "metadata": {},
   "source": [
    "Some of the commonly used libraries used by Data Scientists include:\n",
    "- Numpy\n",
    "- Pandas\n",
    "- ggplot\n",
    "- Scikit-learn"
   ]
  },
  {
   "cell_type": "markdown",
   "id": "583ea163-7a65-42cf-bd8b-d4cb6b2bef91",
   "metadata": {},
   "source": [
    "| Data Science Tools |\n",
    "| ------------------ |\n",
    "| Jupyter Notebook |\n",
    "| tableau |\n",
    "| Python |\n"
   ]
  },
  {
   "cell_type": "markdown",
   "id": "e3601f26-9a3d-4bb0-9036-f0eb962fd1de",
   "metadata": {},
   "source": [
    "### Below are a few examples of evaluating arithmetic expressions in Python"
   ]
  },
  {
   "cell_type": "code",
   "execution_count": 3,
   "id": "2af4da69-ad8b-4998-9699-dd43feb54c9f",
   "metadata": {},
   "outputs": [
    {
     "data": {
      "text/plain": [
       "17"
      ]
     },
     "execution_count": 3,
     "metadata": {},
     "output_type": "execute_result"
    }
   ],
   "source": [
    "(3*4)+5\n",
    "# This a simple arithmetic expression to multiply then add integers"
   ]
  },
  {
   "cell_type": "code",
   "execution_count": 4,
   "id": "67b2c534-a14e-4627-956b-8587938b101a",
   "metadata": {},
   "outputs": [
    {
     "data": {
      "text/plain": [
       "3.3333333333333335"
      ]
     },
     "execution_count": 4,
     "metadata": {},
     "output_type": "execute_result"
    }
   ],
   "source": [
    "200/60\n",
    "# This will convert 200 minutes to hours by diving by 60"
   ]
  },
  {
   "cell_type": "markdown",
   "id": "ed91d138-54af-4b2e-b98b-4ce4def5583f",
   "metadata": {},
   "source": [
    "## Author\n",
    "Nishant"
   ]
  },
  {
   "cell_type": "code",
   "execution_count": null,
   "id": "0a9341f7-6ad5-453a-8015-ba092bf87bde",
   "metadata": {},
   "outputs": [],
   "source": []
  }
 ],
 "metadata": {
  "kernelspec": {
   "display_name": "Python 3 (ipykernel)",
   "language": "python",
   "name": "python3"
  },
  "language_info": {
   "codemirror_mode": {
    "name": "ipython",
    "version": 3
   },
   "file_extension": ".py",
   "mimetype": "text/x-python",
   "name": "python",
   "nbconvert_exporter": "python",
   "pygments_lexer": "ipython3",
   "version": "3.12.8"
  }
 },
 "nbformat": 4,
 "nbformat_minor": 5
}
